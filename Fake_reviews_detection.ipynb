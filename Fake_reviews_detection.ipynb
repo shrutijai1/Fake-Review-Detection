{
  "cells": [
    {
      "cell_type": "markdown",
      "metadata": {
        "id": "C2OXVpMhWGiH"
      },
      "source": [
        "# Fake Reviews Detection"
      ]
    },
    {
      "cell_type": "code",
      "source": [
        "from google.colab import drive\n",
        "drive.mount('/content/drive')"
      ],
      "metadata": {
        "colab": {
          "base_uri": "https://localhost:8080/"
        },
        "id": "MnZt4G_7YeSQ",
        "outputId": "6a94b56b-1b59-4ddd-ed78-35cf1c69dff0"
      },
      "execution_count": null,
      "outputs": [
        {
          "output_type": "stream",
          "name": "stdout",
          "text": [
            "Mounted at /content/drive\n"
          ]
        }
      ]
    },
    {
      "cell_type": "code",
      "source": [
        "cd drive/MyDrive/Fake_reviews"
      ],
      "metadata": {
        "colab": {
          "base_uri": "https://localhost:8080/"
        },
        "id": "Mb8DZGeYYpyR",
        "outputId": "c69d0544-8b26-432b-8b53-265aaabb56d5"
      },
      "execution_count": null,
      "outputs": [
        {
          "output_type": "stream",
          "name": "stdout",
          "text": [
            "/content/drive/MyDrive/Fake_reviews\n"
          ]
        }
      ]
    },
    {
      "cell_type": "code",
      "source": [
        "ls"
      ],
      "metadata": {
        "colab": {
          "base_uri": "https://localhost:8080/"
        },
        "id": "QOxNf5tlZfPj",
        "outputId": "9324234f-2795-4884-864d-793f2b6a379f"
      },
      "execution_count": null,
      "outputs": [
        {
          "output_type": "stream",
          "name": "stdout",
          "text": [
            "fake_reviews.csv              manual_testing.csv\n",
            "Fake_reviews_detection.ipynb  true_reviews.csv\n"
          ]
        }
      ]
    },
    {
      "cell_type": "markdown",
      "metadata": {
        "id": "ldoABeTbWGiO"
      },
      "source": [
        "### Importing required libraries\n",
        "Here I am going to importing some of the required library, if extra library is required to install It will be install later on."
      ]
    },
    {
      "cell_type": "code",
      "execution_count": null,
      "metadata": {
        "id": "26EWdhmFWGiP"
      },
      "outputs": [],
      "source": [
        "import pandas as pd\n",
        "import numpy as np\n",
        "import seaborn as sns\n",
        "import matplotlib.pyplot as plt\n",
        "from sklearn.model_selection import train_test_split\n",
        "from sklearn.metrics import accuracy_score\n",
        "from sklearn.metrics import classification_report\n",
        "import re\n",
        "import string"
      ]
    },
    {
      "cell_type": "markdown",
      "metadata": {
        "id": "BHxUyjH4WGiS"
      },
      "source": [
        "### Inserting fake and real dataset"
      ]
    },
    {
      "cell_type": "code",
      "execution_count": null,
      "metadata": {
        "id": "g5hfJu9YWGiT"
      },
      "outputs": [],
      "source": [
        "df_fake = pd.read_csv(\"fake_reviews.csv\")\n",
        "df_true = pd.read_csv(\"true_reviews.csv\")"
      ]
    },
    {
      "cell_type": "code",
      "execution_count": null,
      "metadata": {
        "id": "R9_ooixTWGiU",
        "colab": {
          "base_uri": "https://localhost:8080/",
          "height": 560
        },
        "outputId": "93fde7c4-1e07-4299-ca56-ff2d9643039a"
      },
      "outputs": [
        {
          "output_type": "execute_result",
          "data": {
            "text/plain": [
              "                 reviewID              reviewerID            restaurantID  \\\n",
              "0  6iHxiTdunSlX1Fg_nGIEeg  MXfwbHv5T-U_lHix5p8cmQ  pbEiXam9YJL3neCYHGwLUA   \n",
              "1  ZrDMIIfvGb35_MQyZvcNlA  lszTWuvB2yQWCUjcRX73Xw  pbEiXam9YJL3neCYHGwLUA   \n",
              "2  vjSYh7i54mbhNPzjKW-75A  jxzkUDFAreOk3VpYFedxZA  WBU0yq9J8qiYQfI_fh2P1Q   \n",
              "3  XKjj-eKn6ZMkGcQ6E3OSXQ  PlKxCQX4aBNx2lp0EyHl0w  8d_DiHWB-pjBVW3a7D8EWg   \n",
              "4  7EAzA1FCwmuapu_fI8PyiA  0TqpLe6svu1YUb6zKl2vHg  IvdOI86_CSCRFpid2atnyA   \n",
              "\n",
              "         date  rating  reviewUsefulCount  \\\n",
              "0   7/24/2012       5                  0   \n",
              "1  07-12-2012       5                  0   \n",
              "2   8/24/2011       3                  0   \n",
              "3   2/24/2011       5                  0   \n",
              "4  04-06-2011       3                  0   \n",
              "\n",
              "                                       reviewContent flagged  \\\n",
              "0  i finally made alinea i heard much alinea way ...       Y   \n",
              "1  went friend s birthday all i say wow fine dini...       Y   \n",
              "2  didn t chicken like folks come here instead i ...       Y   \n",
              "3                      lives hype highly recommended       Y   \n",
              "4  it bad server nice little slow although bus pe...       Y   \n",
              "\n",
              "                name     location  ... coolCount  funnyCount  complimentCount  \\\n",
              "0  Betty The Star R.  Chicago, IL  ...         3           3                0   \n",
              "1           Cindy S.  Chicago, IL  ...         1           0                0   \n",
              "2            Rich G.  Chicago, IL  ...         3           1                1   \n",
              "3           Frank F.  Chicago, IL  ...         0           0                0   \n",
              "4             May H.  Chicago, IL  ...         0           0                0   \n",
              "\n",
              "   tipCount  fanCount  restaurantRating       mnr   rl     rd  \\\n",
              "0         0         0               4.5  0.083333  129  0.125   \n",
              "1         0         0               4.5  0.166667   20  0.125   \n",
              "2         0         0               4.0  0.083333   45  0.250   \n",
              "3         0         0               4.0  0.166667    4  0.250   \n",
              "4         0         0               4.0  0.083333   53  0.250   \n",
              "\n",
              "   Maximum Content Similarity  \n",
              "0                    0.134237  \n",
              "1                    0.026265  \n",
              "2                    0.041505  \n",
              "3                    0.000000  \n",
              "4                    0.057218  \n",
              "\n",
              "[5 rows x 25 columns]"
            ],
            "text/html": [
              "\n",
              "  <div id=\"df-0af08104-899e-41d4-abcb-9a17cdd0e736\">\n",
              "    <div class=\"colab-df-container\">\n",
              "      <div>\n",
              "<style scoped>\n",
              "    .dataframe tbody tr th:only-of-type {\n",
              "        vertical-align: middle;\n",
              "    }\n",
              "\n",
              "    .dataframe tbody tr th {\n",
              "        vertical-align: top;\n",
              "    }\n",
              "\n",
              "    .dataframe thead th {\n",
              "        text-align: right;\n",
              "    }\n",
              "</style>\n",
              "<table border=\"1\" class=\"dataframe\">\n",
              "  <thead>\n",
              "    <tr style=\"text-align: right;\">\n",
              "      <th></th>\n",
              "      <th>reviewID</th>\n",
              "      <th>reviewerID</th>\n",
              "      <th>restaurantID</th>\n",
              "      <th>date</th>\n",
              "      <th>rating</th>\n",
              "      <th>reviewUsefulCount</th>\n",
              "      <th>reviewContent</th>\n",
              "      <th>flagged</th>\n",
              "      <th>name</th>\n",
              "      <th>location</th>\n",
              "      <th>...</th>\n",
              "      <th>coolCount</th>\n",
              "      <th>funnyCount</th>\n",
              "      <th>complimentCount</th>\n",
              "      <th>tipCount</th>\n",
              "      <th>fanCount</th>\n",
              "      <th>restaurantRating</th>\n",
              "      <th>mnr</th>\n",
              "      <th>rl</th>\n",
              "      <th>rd</th>\n",
              "      <th>Maximum Content Similarity</th>\n",
              "    </tr>\n",
              "  </thead>\n",
              "  <tbody>\n",
              "    <tr>\n",
              "      <th>0</th>\n",
              "      <td>6iHxiTdunSlX1Fg_nGIEeg</td>\n",
              "      <td>MXfwbHv5T-U_lHix5p8cmQ</td>\n",
              "      <td>pbEiXam9YJL3neCYHGwLUA</td>\n",
              "      <td>7/24/2012</td>\n",
              "      <td>5</td>\n",
              "      <td>0</td>\n",
              "      <td>i finally made alinea i heard much alinea way ...</td>\n",
              "      <td>Y</td>\n",
              "      <td>Betty The Star R.</td>\n",
              "      <td>Chicago, IL</td>\n",
              "      <td>...</td>\n",
              "      <td>3</td>\n",
              "      <td>3</td>\n",
              "      <td>0</td>\n",
              "      <td>0</td>\n",
              "      <td>0</td>\n",
              "      <td>4.5</td>\n",
              "      <td>0.083333</td>\n",
              "      <td>129</td>\n",
              "      <td>0.125</td>\n",
              "      <td>0.134237</td>\n",
              "    </tr>\n",
              "    <tr>\n",
              "      <th>1</th>\n",
              "      <td>ZrDMIIfvGb35_MQyZvcNlA</td>\n",
              "      <td>lszTWuvB2yQWCUjcRX73Xw</td>\n",
              "      <td>pbEiXam9YJL3neCYHGwLUA</td>\n",
              "      <td>07-12-2012</td>\n",
              "      <td>5</td>\n",
              "      <td>0</td>\n",
              "      <td>went friend s birthday all i say wow fine dini...</td>\n",
              "      <td>Y</td>\n",
              "      <td>Cindy S.</td>\n",
              "      <td>Chicago, IL</td>\n",
              "      <td>...</td>\n",
              "      <td>1</td>\n",
              "      <td>0</td>\n",
              "      <td>0</td>\n",
              "      <td>0</td>\n",
              "      <td>0</td>\n",
              "      <td>4.5</td>\n",
              "      <td>0.166667</td>\n",
              "      <td>20</td>\n",
              "      <td>0.125</td>\n",
              "      <td>0.026265</td>\n",
              "    </tr>\n",
              "    <tr>\n",
              "      <th>2</th>\n",
              "      <td>vjSYh7i54mbhNPzjKW-75A</td>\n",
              "      <td>jxzkUDFAreOk3VpYFedxZA</td>\n",
              "      <td>WBU0yq9J8qiYQfI_fh2P1Q</td>\n",
              "      <td>8/24/2011</td>\n",
              "      <td>3</td>\n",
              "      <td>0</td>\n",
              "      <td>didn t chicken like folks come here instead i ...</td>\n",
              "      <td>Y</td>\n",
              "      <td>Rich G.</td>\n",
              "      <td>Chicago, IL</td>\n",
              "      <td>...</td>\n",
              "      <td>3</td>\n",
              "      <td>1</td>\n",
              "      <td>1</td>\n",
              "      <td>0</td>\n",
              "      <td>0</td>\n",
              "      <td>4.0</td>\n",
              "      <td>0.083333</td>\n",
              "      <td>45</td>\n",
              "      <td>0.250</td>\n",
              "      <td>0.041505</td>\n",
              "    </tr>\n",
              "    <tr>\n",
              "      <th>3</th>\n",
              "      <td>XKjj-eKn6ZMkGcQ6E3OSXQ</td>\n",
              "      <td>PlKxCQX4aBNx2lp0EyHl0w</td>\n",
              "      <td>8d_DiHWB-pjBVW3a7D8EWg</td>\n",
              "      <td>2/24/2011</td>\n",
              "      <td>5</td>\n",
              "      <td>0</td>\n",
              "      <td>lives hype highly recommended</td>\n",
              "      <td>Y</td>\n",
              "      <td>Frank F.</td>\n",
              "      <td>Chicago, IL</td>\n",
              "      <td>...</td>\n",
              "      <td>0</td>\n",
              "      <td>0</td>\n",
              "      <td>0</td>\n",
              "      <td>0</td>\n",
              "      <td>0</td>\n",
              "      <td>4.0</td>\n",
              "      <td>0.166667</td>\n",
              "      <td>4</td>\n",
              "      <td>0.250</td>\n",
              "      <td>0.000000</td>\n",
              "    </tr>\n",
              "    <tr>\n",
              "      <th>4</th>\n",
              "      <td>7EAzA1FCwmuapu_fI8PyiA</td>\n",
              "      <td>0TqpLe6svu1YUb6zKl2vHg</td>\n",
              "      <td>IvdOI86_CSCRFpid2atnyA</td>\n",
              "      <td>04-06-2011</td>\n",
              "      <td>3</td>\n",
              "      <td>0</td>\n",
              "      <td>it bad server nice little slow although bus pe...</td>\n",
              "      <td>Y</td>\n",
              "      <td>May H.</td>\n",
              "      <td>Chicago, IL</td>\n",
              "      <td>...</td>\n",
              "      <td>0</td>\n",
              "      <td>0</td>\n",
              "      <td>0</td>\n",
              "      <td>0</td>\n",
              "      <td>0</td>\n",
              "      <td>4.0</td>\n",
              "      <td>0.083333</td>\n",
              "      <td>53</td>\n",
              "      <td>0.250</td>\n",
              "      <td>0.057218</td>\n",
              "    </tr>\n",
              "  </tbody>\n",
              "</table>\n",
              "<p>5 rows × 25 columns</p>\n",
              "</div>\n",
              "      <button class=\"colab-df-convert\" onclick=\"convertToInteractive('df-0af08104-899e-41d4-abcb-9a17cdd0e736')\"\n",
              "              title=\"Convert this dataframe to an interactive table.\"\n",
              "              style=\"display:none;\">\n",
              "        \n",
              "  <svg xmlns=\"http://www.w3.org/2000/svg\" height=\"24px\"viewBox=\"0 0 24 24\"\n",
              "       width=\"24px\">\n",
              "    <path d=\"M0 0h24v24H0V0z\" fill=\"none\"/>\n",
              "    <path d=\"M18.56 5.44l.94 2.06.94-2.06 2.06-.94-2.06-.94-.94-2.06-.94 2.06-2.06.94zm-11 1L8.5 8.5l.94-2.06 2.06-.94-2.06-.94L8.5 2.5l-.94 2.06-2.06.94zm10 10l.94 2.06.94-2.06 2.06-.94-2.06-.94-.94-2.06-.94 2.06-2.06.94z\"/><path d=\"M17.41 7.96l-1.37-1.37c-.4-.4-.92-.59-1.43-.59-.52 0-1.04.2-1.43.59L10.3 9.45l-7.72 7.72c-.78.78-.78 2.05 0 2.83L4 21.41c.39.39.9.59 1.41.59.51 0 1.02-.2 1.41-.59l7.78-7.78 2.81-2.81c.8-.78.8-2.07 0-2.86zM5.41 20L4 18.59l7.72-7.72 1.47 1.35L5.41 20z\"/>\n",
              "  </svg>\n",
              "      </button>\n",
              "      \n",
              "  <style>\n",
              "    .colab-df-container {\n",
              "      display:flex;\n",
              "      flex-wrap:wrap;\n",
              "      gap: 12px;\n",
              "    }\n",
              "\n",
              "    .colab-df-convert {\n",
              "      background-color: #E8F0FE;\n",
              "      border: none;\n",
              "      border-radius: 50%;\n",
              "      cursor: pointer;\n",
              "      display: none;\n",
              "      fill: #1967D2;\n",
              "      height: 32px;\n",
              "      padding: 0 0 0 0;\n",
              "      width: 32px;\n",
              "    }\n",
              "\n",
              "    .colab-df-convert:hover {\n",
              "      background-color: #E2EBFA;\n",
              "      box-shadow: 0px 1px 2px rgba(60, 64, 67, 0.3), 0px 1px 3px 1px rgba(60, 64, 67, 0.15);\n",
              "      fill: #174EA6;\n",
              "    }\n",
              "\n",
              "    [theme=dark] .colab-df-convert {\n",
              "      background-color: #3B4455;\n",
              "      fill: #D2E3FC;\n",
              "    }\n",
              "\n",
              "    [theme=dark] .colab-df-convert:hover {\n",
              "      background-color: #434B5C;\n",
              "      box-shadow: 0px 1px 3px 1px rgba(0, 0, 0, 0.15);\n",
              "      filter: drop-shadow(0px 1px 2px rgba(0, 0, 0, 0.3));\n",
              "      fill: #FFFFFF;\n",
              "    }\n",
              "  </style>\n",
              "\n",
              "      <script>\n",
              "        const buttonEl =\n",
              "          document.querySelector('#df-0af08104-899e-41d4-abcb-9a17cdd0e736 button.colab-df-convert');\n",
              "        buttonEl.style.display =\n",
              "          google.colab.kernel.accessAllowed ? 'block' : 'none';\n",
              "\n",
              "        async function convertToInteractive(key) {\n",
              "          const element = document.querySelector('#df-0af08104-899e-41d4-abcb-9a17cdd0e736');\n",
              "          const dataTable =\n",
              "            await google.colab.kernel.invokeFunction('convertToInteractive',\n",
              "                                                     [key], {});\n",
              "          if (!dataTable) return;\n",
              "\n",
              "          const docLinkHtml = 'Like what you see? Visit the ' +\n",
              "            '<a target=\"_blank\" href=https://colab.research.google.com/notebooks/data_table.ipynb>data table notebook</a>'\n",
              "            + ' to learn more about interactive tables.';\n",
              "          element.innerHTML = '';\n",
              "          dataTable['output_type'] = 'display_data';\n",
              "          await google.colab.output.renderOutput(dataTable, element);\n",
              "          const docLink = document.createElement('div');\n",
              "          docLink.innerHTML = docLinkHtml;\n",
              "          element.appendChild(docLink);\n",
              "        }\n",
              "      </script>\n",
              "    </div>\n",
              "  </div>\n",
              "  "
            ]
          },
          "metadata": {},
          "execution_count": 6
        }
      ],
      "source": [
        "df_fake.head(5)"
      ]
    },
    {
      "cell_type": "code",
      "execution_count": null,
      "metadata": {
        "id": "9xDx_yoAWGiW",
        "colab": {
          "base_uri": "https://localhost:8080/",
          "height": 612
        },
        "outputId": "f0cc546d-eb91-4d16-a480-d9daa2b44130"
      },
      "outputs": [
        {
          "output_type": "execute_result",
          "data": {
            "text/plain": [
              "                 reviewID              reviewerID            restaurantID  \\\n",
              "0  GtwU21YOQn-wf4vWRUIx6w  bNYesZ944s6IJVowOnB0iA  pbEiXam9YJL3neCYHGwLUA   \n",
              "1                 0LpVTc3  TRKxLC3y-ZvP45e5iilMtw  pbEiXam9YJL3neCYHGwLUA   \n",
              "2           tljtLzf68Fkwf  0EMm8umAqXZzyhxNpL4M9g  pbEiXam9YJL3neCYHGwLUA   \n",
              "3                     iSN  DlwexC7z88ymAzu45skODw  pbEiXam9YJL3neCYHGwLUA   \n",
              "4                  Jmwrh7  kW2dk1CWihmh3g7k9N2G8A  pbEiXam9YJL3neCYHGwLUA   \n",
              "\n",
              "         date  rating  reviewUsefulCount  \\\n",
              "0   9/22/2012       5                  0   \n",
              "1   9/22/2012       5                  0   \n",
              "2   9/19/2012       3                  2   \n",
              "3  09-06-2012       3                  8   \n",
              "4  09-09-2012       5                  1   \n",
              "\n",
              "                                       reviewContent flagged  \\\n",
              "0  unlike next we d eaten previous night dish com...       N   \n",
              "1  probably one best meals i ve ever it s perform...       N   \n",
              "2  service impeccable experience presentation coo...       N   \n",
              "3  the problem places like this given exhorbitant...       N   \n",
              "4  i idea write review dining alinea brings whole...       N   \n",
              "\n",
              "                        name                    location  ... coolCount  \\\n",
              "0                   Scott E.                Glengary, WV  ...         5   \n",
              "1                   Jerry K.  Palos Verdes Peninsula, CA  ...         0   \n",
              "2                Patricia M.                 Chicago, IL  ...         0   \n",
              "3                   Terry N.                San Jose, CA  ...         8   \n",
              "4  Shradha Vegetarianista A.                 Chicago, IL  ...       679   \n",
              "\n",
              "   funnyCount  complimentCount  tipCount  fanCount  restaurantRating  \\\n",
              "0           5                2         0         1               4.5   \n",
              "1           0                0         0         0               4.5   \n",
              "2           1                0         0         0               4.5   \n",
              "3           6                6        11         0               4.5   \n",
              "4         417              283        22        70               4.5   \n",
              "\n",
              "        mnr   rl     rd  Maximum Content Similarity  \n",
              "0  0.083333  497  0.125                    0.123653  \n",
              "1  0.083333   41  0.125                    0.000000  \n",
              "2  0.083333   27  0.375                    0.000000  \n",
              "3  0.083333  244  0.375                    0.000000  \n",
              "4  0.083333   97  0.125                    0.760866  \n",
              "\n",
              "[5 rows x 25 columns]"
            ],
            "text/html": [
              "\n",
              "  <div id=\"df-6f2f8189-7893-4998-a1a7-3c179a1f01b3\">\n",
              "    <div class=\"colab-df-container\">\n",
              "      <div>\n",
              "<style scoped>\n",
              "    .dataframe tbody tr th:only-of-type {\n",
              "        vertical-align: middle;\n",
              "    }\n",
              "\n",
              "    .dataframe tbody tr th {\n",
              "        vertical-align: top;\n",
              "    }\n",
              "\n",
              "    .dataframe thead th {\n",
              "        text-align: right;\n",
              "    }\n",
              "</style>\n",
              "<table border=\"1\" class=\"dataframe\">\n",
              "  <thead>\n",
              "    <tr style=\"text-align: right;\">\n",
              "      <th></th>\n",
              "      <th>reviewID</th>\n",
              "      <th>reviewerID</th>\n",
              "      <th>restaurantID</th>\n",
              "      <th>date</th>\n",
              "      <th>rating</th>\n",
              "      <th>reviewUsefulCount</th>\n",
              "      <th>reviewContent</th>\n",
              "      <th>flagged</th>\n",
              "      <th>name</th>\n",
              "      <th>location</th>\n",
              "      <th>...</th>\n",
              "      <th>coolCount</th>\n",
              "      <th>funnyCount</th>\n",
              "      <th>complimentCount</th>\n",
              "      <th>tipCount</th>\n",
              "      <th>fanCount</th>\n",
              "      <th>restaurantRating</th>\n",
              "      <th>mnr</th>\n",
              "      <th>rl</th>\n",
              "      <th>rd</th>\n",
              "      <th>Maximum Content Similarity</th>\n",
              "    </tr>\n",
              "  </thead>\n",
              "  <tbody>\n",
              "    <tr>\n",
              "      <th>0</th>\n",
              "      <td>GtwU21YOQn-wf4vWRUIx6w</td>\n",
              "      <td>bNYesZ944s6IJVowOnB0iA</td>\n",
              "      <td>pbEiXam9YJL3neCYHGwLUA</td>\n",
              "      <td>9/22/2012</td>\n",
              "      <td>5</td>\n",
              "      <td>0</td>\n",
              "      <td>unlike next we d eaten previous night dish com...</td>\n",
              "      <td>N</td>\n",
              "      <td>Scott E.</td>\n",
              "      <td>Glengary, WV</td>\n",
              "      <td>...</td>\n",
              "      <td>5</td>\n",
              "      <td>5</td>\n",
              "      <td>2</td>\n",
              "      <td>0</td>\n",
              "      <td>1</td>\n",
              "      <td>4.5</td>\n",
              "      <td>0.083333</td>\n",
              "      <td>497</td>\n",
              "      <td>0.125</td>\n",
              "      <td>0.123653</td>\n",
              "    </tr>\n",
              "    <tr>\n",
              "      <th>1</th>\n",
              "      <td>0LpVTc3</td>\n",
              "      <td>TRKxLC3y-ZvP45e5iilMtw</td>\n",
              "      <td>pbEiXam9YJL3neCYHGwLUA</td>\n",
              "      <td>9/22/2012</td>\n",
              "      <td>5</td>\n",
              "      <td>0</td>\n",
              "      <td>probably one best meals i ve ever it s perform...</td>\n",
              "      <td>N</td>\n",
              "      <td>Jerry K.</td>\n",
              "      <td>Palos Verdes Peninsula, CA</td>\n",
              "      <td>...</td>\n",
              "      <td>0</td>\n",
              "      <td>0</td>\n",
              "      <td>0</td>\n",
              "      <td>0</td>\n",
              "      <td>0</td>\n",
              "      <td>4.5</td>\n",
              "      <td>0.083333</td>\n",
              "      <td>41</td>\n",
              "      <td>0.125</td>\n",
              "      <td>0.000000</td>\n",
              "    </tr>\n",
              "    <tr>\n",
              "      <th>2</th>\n",
              "      <td>tljtLzf68Fkwf</td>\n",
              "      <td>0EMm8umAqXZzyhxNpL4M9g</td>\n",
              "      <td>pbEiXam9YJL3neCYHGwLUA</td>\n",
              "      <td>9/19/2012</td>\n",
              "      <td>3</td>\n",
              "      <td>2</td>\n",
              "      <td>service impeccable experience presentation coo...</td>\n",
              "      <td>N</td>\n",
              "      <td>Patricia M.</td>\n",
              "      <td>Chicago, IL</td>\n",
              "      <td>...</td>\n",
              "      <td>0</td>\n",
              "      <td>1</td>\n",
              "      <td>0</td>\n",
              "      <td>0</td>\n",
              "      <td>0</td>\n",
              "      <td>4.5</td>\n",
              "      <td>0.083333</td>\n",
              "      <td>27</td>\n",
              "      <td>0.375</td>\n",
              "      <td>0.000000</td>\n",
              "    </tr>\n",
              "    <tr>\n",
              "      <th>3</th>\n",
              "      <td>iSN</td>\n",
              "      <td>DlwexC7z88ymAzu45skODw</td>\n",
              "      <td>pbEiXam9YJL3neCYHGwLUA</td>\n",
              "      <td>09-06-2012</td>\n",
              "      <td>3</td>\n",
              "      <td>8</td>\n",
              "      <td>the problem places like this given exhorbitant...</td>\n",
              "      <td>N</td>\n",
              "      <td>Terry N.</td>\n",
              "      <td>San Jose, CA</td>\n",
              "      <td>...</td>\n",
              "      <td>8</td>\n",
              "      <td>6</td>\n",
              "      <td>6</td>\n",
              "      <td>11</td>\n",
              "      <td>0</td>\n",
              "      <td>4.5</td>\n",
              "      <td>0.083333</td>\n",
              "      <td>244</td>\n",
              "      <td>0.375</td>\n",
              "      <td>0.000000</td>\n",
              "    </tr>\n",
              "    <tr>\n",
              "      <th>4</th>\n",
              "      <td>Jmwrh7</td>\n",
              "      <td>kW2dk1CWihmh3g7k9N2G8A</td>\n",
              "      <td>pbEiXam9YJL3neCYHGwLUA</td>\n",
              "      <td>09-09-2012</td>\n",
              "      <td>5</td>\n",
              "      <td>1</td>\n",
              "      <td>i idea write review dining alinea brings whole...</td>\n",
              "      <td>N</td>\n",
              "      <td>Shradha Vegetarianista A.</td>\n",
              "      <td>Chicago, IL</td>\n",
              "      <td>...</td>\n",
              "      <td>679</td>\n",
              "      <td>417</td>\n",
              "      <td>283</td>\n",
              "      <td>22</td>\n",
              "      <td>70</td>\n",
              "      <td>4.5</td>\n",
              "      <td>0.083333</td>\n",
              "      <td>97</td>\n",
              "      <td>0.125</td>\n",
              "      <td>0.760866</td>\n",
              "    </tr>\n",
              "  </tbody>\n",
              "</table>\n",
              "<p>5 rows × 25 columns</p>\n",
              "</div>\n",
              "      <button class=\"colab-df-convert\" onclick=\"convertToInteractive('df-6f2f8189-7893-4998-a1a7-3c179a1f01b3')\"\n",
              "              title=\"Convert this dataframe to an interactive table.\"\n",
              "              style=\"display:none;\">\n",
              "        \n",
              "  <svg xmlns=\"http://www.w3.org/2000/svg\" height=\"24px\"viewBox=\"0 0 24 24\"\n",
              "       width=\"24px\">\n",
              "    <path d=\"M0 0h24v24H0V0z\" fill=\"none\"/>\n",
              "    <path d=\"M18.56 5.44l.94 2.06.94-2.06 2.06-.94-2.06-.94-.94-2.06-.94 2.06-2.06.94zm-11 1L8.5 8.5l.94-2.06 2.06-.94-2.06-.94L8.5 2.5l-.94 2.06-2.06.94zm10 10l.94 2.06.94-2.06 2.06-.94-2.06-.94-.94-2.06-.94 2.06-2.06.94z\"/><path d=\"M17.41 7.96l-1.37-1.37c-.4-.4-.92-.59-1.43-.59-.52 0-1.04.2-1.43.59L10.3 9.45l-7.72 7.72c-.78.78-.78 2.05 0 2.83L4 21.41c.39.39.9.59 1.41.59.51 0 1.02-.2 1.41-.59l7.78-7.78 2.81-2.81c.8-.78.8-2.07 0-2.86zM5.41 20L4 18.59l7.72-7.72 1.47 1.35L5.41 20z\"/>\n",
              "  </svg>\n",
              "      </button>\n",
              "      \n",
              "  <style>\n",
              "    .colab-df-container {\n",
              "      display:flex;\n",
              "      flex-wrap:wrap;\n",
              "      gap: 12px;\n",
              "    }\n",
              "\n",
              "    .colab-df-convert {\n",
              "      background-color: #E8F0FE;\n",
              "      border: none;\n",
              "      border-radius: 50%;\n",
              "      cursor: pointer;\n",
              "      display: none;\n",
              "      fill: #1967D2;\n",
              "      height: 32px;\n",
              "      padding: 0 0 0 0;\n",
              "      width: 32px;\n",
              "    }\n",
              "\n",
              "    .colab-df-convert:hover {\n",
              "      background-color: #E2EBFA;\n",
              "      box-shadow: 0px 1px 2px rgba(60, 64, 67, 0.3), 0px 1px 3px 1px rgba(60, 64, 67, 0.15);\n",
              "      fill: #174EA6;\n",
              "    }\n",
              "\n",
              "    [theme=dark] .colab-df-convert {\n",
              "      background-color: #3B4455;\n",
              "      fill: #D2E3FC;\n",
              "    }\n",
              "\n",
              "    [theme=dark] .colab-df-convert:hover {\n",
              "      background-color: #434B5C;\n",
              "      box-shadow: 0px 1px 3px 1px rgba(0, 0, 0, 0.15);\n",
              "      filter: drop-shadow(0px 1px 2px rgba(0, 0, 0, 0.3));\n",
              "      fill: #FFFFFF;\n",
              "    }\n",
              "  </style>\n",
              "\n",
              "      <script>\n",
              "        const buttonEl =\n",
              "          document.querySelector('#df-6f2f8189-7893-4998-a1a7-3c179a1f01b3 button.colab-df-convert');\n",
              "        buttonEl.style.display =\n",
              "          google.colab.kernel.accessAllowed ? 'block' : 'none';\n",
              "\n",
              "        async function convertToInteractive(key) {\n",
              "          const element = document.querySelector('#df-6f2f8189-7893-4998-a1a7-3c179a1f01b3');\n",
              "          const dataTable =\n",
              "            await google.colab.kernel.invokeFunction('convertToInteractive',\n",
              "                                                     [key], {});\n",
              "          if (!dataTable) return;\n",
              "\n",
              "          const docLinkHtml = 'Like what you see? Visit the ' +\n",
              "            '<a target=\"_blank\" href=https://colab.research.google.com/notebooks/data_table.ipynb>data table notebook</a>'\n",
              "            + ' to learn more about interactive tables.';\n",
              "          element.innerHTML = '';\n",
              "          dataTable['output_type'] = 'display_data';\n",
              "          await google.colab.output.renderOutput(dataTable, element);\n",
              "          const docLink = document.createElement('div');\n",
              "          docLink.innerHTML = docLinkHtml;\n",
              "          element.appendChild(docLink);\n",
              "        }\n",
              "      </script>\n",
              "    </div>\n",
              "  </div>\n",
              "  "
            ]
          },
          "metadata": {},
          "execution_count": 7
        }
      ],
      "source": [
        "df_true.head(5)"
      ]
    },
    {
      "cell_type": "markdown",
      "metadata": {
        "id": "Kj0UOcF0WGiY"
      },
      "source": [
        "Inserting a column called \"class\" for fake and real news dataset to categories fake and true news. "
      ]
    },
    {
      "cell_type": "code",
      "execution_count": null,
      "metadata": {
        "id": "rf5cltCMWGiZ"
      },
      "outputs": [],
      "source": [
        "df_fake[\"class\"] = 0\n",
        "df_true[\"class\"] = 1"
      ]
    },
    {
      "cell_type": "code",
      "execution_count": null,
      "metadata": {
        "id": "MpqDLElmWGic",
        "colab": {
          "base_uri": "https://localhost:8080/"
        },
        "outputId": "29b476ef-59e1-4052-fbde-0f6852ea7173"
      },
      "outputs": [
        {
          "output_type": "execute_result",
          "data": {
            "text/plain": [
              "((6206, 26), (20752, 26))"
            ]
          },
          "metadata": {},
          "execution_count": 9
        }
      ],
      "source": [
        "df_fake.shape, df_true.shape"
      ]
    },
    {
      "cell_type": "markdown",
      "metadata": {
        "id": "jXNAtbdPWGii"
      },
      "source": [
        "Merging the main fake and true dataframe"
      ]
    },
    {
      "cell_type": "code",
      "execution_count": null,
      "metadata": {
        "id": "7UZ6XQNRWGii",
        "colab": {
          "base_uri": "https://localhost:8080/",
          "height": 960
        },
        "outputId": "0630b117-d568-49ec-fdd7-c8aa62e86236"
      },
      "outputs": [
        {
          "output_type": "execute_result",
          "data": {
            "text/plain": [
              "                 reviewID              reviewerID            restaurantID  \\\n",
              "0  6iHxiTdunSlX1Fg_nGIEeg  MXfwbHv5T-U_lHix5p8cmQ  pbEiXam9YJL3neCYHGwLUA   \n",
              "1  ZrDMIIfvGb35_MQyZvcNlA  lszTWuvB2yQWCUjcRX73Xw  pbEiXam9YJL3neCYHGwLUA   \n",
              "2  vjSYh7i54mbhNPzjKW-75A  jxzkUDFAreOk3VpYFedxZA  WBU0yq9J8qiYQfI_fh2P1Q   \n",
              "3  XKjj-eKn6ZMkGcQ6E3OSXQ  PlKxCQX4aBNx2lp0EyHl0w  8d_DiHWB-pjBVW3a7D8EWg   \n",
              "4  7EAzA1FCwmuapu_fI8PyiA  0TqpLe6svu1YUb6zKl2vHg  IvdOI86_CSCRFpid2atnyA   \n",
              "5  AzAoPQFysE4wTVWdurM0Gw  mN25MamB30-gtCC-GbvSwA  IvdOI86_CSCRFpid2atnyA   \n",
              "6  H9YMpyJNjZQa1a0J5hgQeQ  bcfG-w1oEhRSRzIcQm_Bxw  IvdOI86_CSCRFpid2atnyA   \n",
              "7  bgZYPS687aLvVN1Bhih6zQ  EbLoh6p0Vj8ZFKq2ZHsO7A  IvdOI86_CSCRFpid2atnyA   \n",
              "8  I73kzk9Q9t7v3B1LnM2y2g  qlGgHX-ODtXhqacSjqAl6w  IvdOI86_CSCRFpid2atnyA   \n",
              "9  1YXdmOYRcA5-OMBeEUh6gg  oQIAl5_bKkbnT89qD_UTwg  IvdOI86_CSCRFpid2atnyA   \n",
              "\n",
              "         date  rating  reviewUsefulCount  \\\n",
              "0   7/24/2012       5                  0   \n",
              "1  07-12-2012       5                  0   \n",
              "2   8/24/2011       3                  0   \n",
              "3   2/24/2011       5                  0   \n",
              "4  04-06-2011       3                  0   \n",
              "5   1/22/2011       5                  0   \n",
              "6  02-08-2012       4                  0   \n",
              "7  06-02-2011       4                  0   \n",
              "8   8/15/2012       2                  0   \n",
              "9  08-08-2012       4                  0   \n",
              "\n",
              "                                       reviewContent flagged  \\\n",
              "0  i finally made alinea i heard much alinea way ...       Y   \n",
              "1  went friend s birthday all i say wow fine dini...       Y   \n",
              "2  didn t chicken like folks come here instead i ...       Y   \n",
              "3                      lives hype highly recommended       Y   \n",
              "4  it bad server nice little slow although bus pe...       Y   \n",
              "5                             was last night booo ya       Y   \n",
              "6  i opportunity try place friends family recent ...       Y   \n",
              "7  last night second visit davanti enoteca i yet ...       Y   \n",
              "8  if looking authentic italian forget place i mo...       Y   \n",
              "9  nice atmosphere i would liked eat outside hot ...       Y   \n",
              "\n",
              "                name      location  ... funnyCount  complimentCount  tipCount  \\\n",
              "0  Betty The Star R.   Chicago, IL  ...          3                0         0   \n",
              "1           Cindy S.   Chicago, IL  ...          0                0         0   \n",
              "2            Rich G.   Chicago, IL  ...          1                1         0   \n",
              "3           Frank F.   Chicago, IL  ...          0                0         0   \n",
              "4             May H.   Chicago, IL  ...          0                0         0   \n",
              "5  Matt Matty Boy W.   Chicago, IL  ...          2                0         0   \n",
              "6           Jimmy L.   Lombard, IL  ...          0                4         0   \n",
              "7            Lisa H.  Evanston, IL  ...          1                0         0   \n",
              "8            Ross E.   Chicago, IL  ...          1                0         0   \n",
              "9            John B.  Oak Park, IL  ...          0                0         0   \n",
              "\n",
              "   fanCount  restaurantRating       mnr   rl     rd  \\\n",
              "0         0               4.5  0.083333  129  0.125   \n",
              "1         0               4.5  0.166667   20  0.125   \n",
              "2         0               4.0  0.083333   45  0.250   \n",
              "3         0               4.0  0.166667    4  0.250   \n",
              "4         0               4.0  0.083333   53  0.250   \n",
              "5         0               4.0  0.083333    5  0.250   \n",
              "6         1               4.0  0.083333   85  0.000   \n",
              "7         0               4.0  0.083333  109  0.000   \n",
              "8         0               4.0  0.083333  105  0.500   \n",
              "9         0               4.0  0.083333   39  0.000   \n",
              "\n",
              "   Maximum Content Similarity  class  \n",
              "0                    0.134237      0  \n",
              "1                    0.026265      0  \n",
              "2                    0.041505      0  \n",
              "3                    0.000000      0  \n",
              "4                    0.057218      0  \n",
              "5                    0.000000      0  \n",
              "6                    0.047917      0  \n",
              "7                    0.167853      0  \n",
              "8                    0.000000      0  \n",
              "9                    0.000000      0  \n",
              "\n",
              "[10 rows x 26 columns]"
            ],
            "text/html": [
              "\n",
              "  <div id=\"df-ec946141-b97d-4cb4-bbe5-018cceb9bf33\">\n",
              "    <div class=\"colab-df-container\">\n",
              "      <div>\n",
              "<style scoped>\n",
              "    .dataframe tbody tr th:only-of-type {\n",
              "        vertical-align: middle;\n",
              "    }\n",
              "\n",
              "    .dataframe tbody tr th {\n",
              "        vertical-align: top;\n",
              "    }\n",
              "\n",
              "    .dataframe thead th {\n",
              "        text-align: right;\n",
              "    }\n",
              "</style>\n",
              "<table border=\"1\" class=\"dataframe\">\n",
              "  <thead>\n",
              "    <tr style=\"text-align: right;\">\n",
              "      <th></th>\n",
              "      <th>reviewID</th>\n",
              "      <th>reviewerID</th>\n",
              "      <th>restaurantID</th>\n",
              "      <th>date</th>\n",
              "      <th>rating</th>\n",
              "      <th>reviewUsefulCount</th>\n",
              "      <th>reviewContent</th>\n",
              "      <th>flagged</th>\n",
              "      <th>name</th>\n",
              "      <th>location</th>\n",
              "      <th>...</th>\n",
              "      <th>funnyCount</th>\n",
              "      <th>complimentCount</th>\n",
              "      <th>tipCount</th>\n",
              "      <th>fanCount</th>\n",
              "      <th>restaurantRating</th>\n",
              "      <th>mnr</th>\n",
              "      <th>rl</th>\n",
              "      <th>rd</th>\n",
              "      <th>Maximum Content Similarity</th>\n",
              "      <th>class</th>\n",
              "    </tr>\n",
              "  </thead>\n",
              "  <tbody>\n",
              "    <tr>\n",
              "      <th>0</th>\n",
              "      <td>6iHxiTdunSlX1Fg_nGIEeg</td>\n",
              "      <td>MXfwbHv5T-U_lHix5p8cmQ</td>\n",
              "      <td>pbEiXam9YJL3neCYHGwLUA</td>\n",
              "      <td>7/24/2012</td>\n",
              "      <td>5</td>\n",
              "      <td>0</td>\n",
              "      <td>i finally made alinea i heard much alinea way ...</td>\n",
              "      <td>Y</td>\n",
              "      <td>Betty The Star R.</td>\n",
              "      <td>Chicago, IL</td>\n",
              "      <td>...</td>\n",
              "      <td>3</td>\n",
              "      <td>0</td>\n",
              "      <td>0</td>\n",
              "      <td>0</td>\n",
              "      <td>4.5</td>\n",
              "      <td>0.083333</td>\n",
              "      <td>129</td>\n",
              "      <td>0.125</td>\n",
              "      <td>0.134237</td>\n",
              "      <td>0</td>\n",
              "    </tr>\n",
              "    <tr>\n",
              "      <th>1</th>\n",
              "      <td>ZrDMIIfvGb35_MQyZvcNlA</td>\n",
              "      <td>lszTWuvB2yQWCUjcRX73Xw</td>\n",
              "      <td>pbEiXam9YJL3neCYHGwLUA</td>\n",
              "      <td>07-12-2012</td>\n",
              "      <td>5</td>\n",
              "      <td>0</td>\n",
              "      <td>went friend s birthday all i say wow fine dini...</td>\n",
              "      <td>Y</td>\n",
              "      <td>Cindy S.</td>\n",
              "      <td>Chicago, IL</td>\n",
              "      <td>...</td>\n",
              "      <td>0</td>\n",
              "      <td>0</td>\n",
              "      <td>0</td>\n",
              "      <td>0</td>\n",
              "      <td>4.5</td>\n",
              "      <td>0.166667</td>\n",
              "      <td>20</td>\n",
              "      <td>0.125</td>\n",
              "      <td>0.026265</td>\n",
              "      <td>0</td>\n",
              "    </tr>\n",
              "    <tr>\n",
              "      <th>2</th>\n",
              "      <td>vjSYh7i54mbhNPzjKW-75A</td>\n",
              "      <td>jxzkUDFAreOk3VpYFedxZA</td>\n",
              "      <td>WBU0yq9J8qiYQfI_fh2P1Q</td>\n",
              "      <td>8/24/2011</td>\n",
              "      <td>3</td>\n",
              "      <td>0</td>\n",
              "      <td>didn t chicken like folks come here instead i ...</td>\n",
              "      <td>Y</td>\n",
              "      <td>Rich G.</td>\n",
              "      <td>Chicago, IL</td>\n",
              "      <td>...</td>\n",
              "      <td>1</td>\n",
              "      <td>1</td>\n",
              "      <td>0</td>\n",
              "      <td>0</td>\n",
              "      <td>4.0</td>\n",
              "      <td>0.083333</td>\n",
              "      <td>45</td>\n",
              "      <td>0.250</td>\n",
              "      <td>0.041505</td>\n",
              "      <td>0</td>\n",
              "    </tr>\n",
              "    <tr>\n",
              "      <th>3</th>\n",
              "      <td>XKjj-eKn6ZMkGcQ6E3OSXQ</td>\n",
              "      <td>PlKxCQX4aBNx2lp0EyHl0w</td>\n",
              "      <td>8d_DiHWB-pjBVW3a7D8EWg</td>\n",
              "      <td>2/24/2011</td>\n",
              "      <td>5</td>\n",
              "      <td>0</td>\n",
              "      <td>lives hype highly recommended</td>\n",
              "      <td>Y</td>\n",
              "      <td>Frank F.</td>\n",
              "      <td>Chicago, IL</td>\n",
              "      <td>...</td>\n",
              "      <td>0</td>\n",
              "      <td>0</td>\n",
              "      <td>0</td>\n",
              "      <td>0</td>\n",
              "      <td>4.0</td>\n",
              "      <td>0.166667</td>\n",
              "      <td>4</td>\n",
              "      <td>0.250</td>\n",
              "      <td>0.000000</td>\n",
              "      <td>0</td>\n",
              "    </tr>\n",
              "    <tr>\n",
              "      <th>4</th>\n",
              "      <td>7EAzA1FCwmuapu_fI8PyiA</td>\n",
              "      <td>0TqpLe6svu1YUb6zKl2vHg</td>\n",
              "      <td>IvdOI86_CSCRFpid2atnyA</td>\n",
              "      <td>04-06-2011</td>\n",
              "      <td>3</td>\n",
              "      <td>0</td>\n",
              "      <td>it bad server nice little slow although bus pe...</td>\n",
              "      <td>Y</td>\n",
              "      <td>May H.</td>\n",
              "      <td>Chicago, IL</td>\n",
              "      <td>...</td>\n",
              "      <td>0</td>\n",
              "      <td>0</td>\n",
              "      <td>0</td>\n",
              "      <td>0</td>\n",
              "      <td>4.0</td>\n",
              "      <td>0.083333</td>\n",
              "      <td>53</td>\n",
              "      <td>0.250</td>\n",
              "      <td>0.057218</td>\n",
              "      <td>0</td>\n",
              "    </tr>\n",
              "    <tr>\n",
              "      <th>5</th>\n",
              "      <td>AzAoPQFysE4wTVWdurM0Gw</td>\n",
              "      <td>mN25MamB30-gtCC-GbvSwA</td>\n",
              "      <td>IvdOI86_CSCRFpid2atnyA</td>\n",
              "      <td>1/22/2011</td>\n",
              "      <td>5</td>\n",
              "      <td>0</td>\n",
              "      <td>was last night booo ya</td>\n",
              "      <td>Y</td>\n",
              "      <td>Matt Matty Boy W.</td>\n",
              "      <td>Chicago, IL</td>\n",
              "      <td>...</td>\n",
              "      <td>2</td>\n",
              "      <td>0</td>\n",
              "      <td>0</td>\n",
              "      <td>0</td>\n",
              "      <td>4.0</td>\n",
              "      <td>0.083333</td>\n",
              "      <td>5</td>\n",
              "      <td>0.250</td>\n",
              "      <td>0.000000</td>\n",
              "      <td>0</td>\n",
              "    </tr>\n",
              "    <tr>\n",
              "      <th>6</th>\n",
              "      <td>H9YMpyJNjZQa1a0J5hgQeQ</td>\n",
              "      <td>bcfG-w1oEhRSRzIcQm_Bxw</td>\n",
              "      <td>IvdOI86_CSCRFpid2atnyA</td>\n",
              "      <td>02-08-2012</td>\n",
              "      <td>4</td>\n",
              "      <td>0</td>\n",
              "      <td>i opportunity try place friends family recent ...</td>\n",
              "      <td>Y</td>\n",
              "      <td>Jimmy L.</td>\n",
              "      <td>Lombard, IL</td>\n",
              "      <td>...</td>\n",
              "      <td>0</td>\n",
              "      <td>4</td>\n",
              "      <td>0</td>\n",
              "      <td>1</td>\n",
              "      <td>4.0</td>\n",
              "      <td>0.083333</td>\n",
              "      <td>85</td>\n",
              "      <td>0.000</td>\n",
              "      <td>0.047917</td>\n",
              "      <td>0</td>\n",
              "    </tr>\n",
              "    <tr>\n",
              "      <th>7</th>\n",
              "      <td>bgZYPS687aLvVN1Bhih6zQ</td>\n",
              "      <td>EbLoh6p0Vj8ZFKq2ZHsO7A</td>\n",
              "      <td>IvdOI86_CSCRFpid2atnyA</td>\n",
              "      <td>06-02-2011</td>\n",
              "      <td>4</td>\n",
              "      <td>0</td>\n",
              "      <td>last night second visit davanti enoteca i yet ...</td>\n",
              "      <td>Y</td>\n",
              "      <td>Lisa H.</td>\n",
              "      <td>Evanston, IL</td>\n",
              "      <td>...</td>\n",
              "      <td>1</td>\n",
              "      <td>0</td>\n",
              "      <td>0</td>\n",
              "      <td>0</td>\n",
              "      <td>4.0</td>\n",
              "      <td>0.083333</td>\n",
              "      <td>109</td>\n",
              "      <td>0.000</td>\n",
              "      <td>0.167853</td>\n",
              "      <td>0</td>\n",
              "    </tr>\n",
              "    <tr>\n",
              "      <th>8</th>\n",
              "      <td>I73kzk9Q9t7v3B1LnM2y2g</td>\n",
              "      <td>qlGgHX-ODtXhqacSjqAl6w</td>\n",
              "      <td>IvdOI86_CSCRFpid2atnyA</td>\n",
              "      <td>8/15/2012</td>\n",
              "      <td>2</td>\n",
              "      <td>0</td>\n",
              "      <td>if looking authentic italian forget place i mo...</td>\n",
              "      <td>Y</td>\n",
              "      <td>Ross E.</td>\n",
              "      <td>Chicago, IL</td>\n",
              "      <td>...</td>\n",
              "      <td>1</td>\n",
              "      <td>0</td>\n",
              "      <td>0</td>\n",
              "      <td>0</td>\n",
              "      <td>4.0</td>\n",
              "      <td>0.083333</td>\n",
              "      <td>105</td>\n",
              "      <td>0.500</td>\n",
              "      <td>0.000000</td>\n",
              "      <td>0</td>\n",
              "    </tr>\n",
              "    <tr>\n",
              "      <th>9</th>\n",
              "      <td>1YXdmOYRcA5-OMBeEUh6gg</td>\n",
              "      <td>oQIAl5_bKkbnT89qD_UTwg</td>\n",
              "      <td>IvdOI86_CSCRFpid2atnyA</td>\n",
              "      <td>08-08-2012</td>\n",
              "      <td>4</td>\n",
              "      <td>0</td>\n",
              "      <td>nice atmosphere i would liked eat outside hot ...</td>\n",
              "      <td>Y</td>\n",
              "      <td>John B.</td>\n",
              "      <td>Oak Park, IL</td>\n",
              "      <td>...</td>\n",
              "      <td>0</td>\n",
              "      <td>0</td>\n",
              "      <td>0</td>\n",
              "      <td>0</td>\n",
              "      <td>4.0</td>\n",
              "      <td>0.083333</td>\n",
              "      <td>39</td>\n",
              "      <td>0.000</td>\n",
              "      <td>0.000000</td>\n",
              "      <td>0</td>\n",
              "    </tr>\n",
              "  </tbody>\n",
              "</table>\n",
              "<p>10 rows × 26 columns</p>\n",
              "</div>\n",
              "      <button class=\"colab-df-convert\" onclick=\"convertToInteractive('df-ec946141-b97d-4cb4-bbe5-018cceb9bf33')\"\n",
              "              title=\"Convert this dataframe to an interactive table.\"\n",
              "              style=\"display:none;\">\n",
              "        \n",
              "  <svg xmlns=\"http://www.w3.org/2000/svg\" height=\"24px\"viewBox=\"0 0 24 24\"\n",
              "       width=\"24px\">\n",
              "    <path d=\"M0 0h24v24H0V0z\" fill=\"none\"/>\n",
              "    <path d=\"M18.56 5.44l.94 2.06.94-2.06 2.06-.94-2.06-.94-.94-2.06-.94 2.06-2.06.94zm-11 1L8.5 8.5l.94-2.06 2.06-.94-2.06-.94L8.5 2.5l-.94 2.06-2.06.94zm10 10l.94 2.06.94-2.06 2.06-.94-2.06-.94-.94-2.06-.94 2.06-2.06.94z\"/><path d=\"M17.41 7.96l-1.37-1.37c-.4-.4-.92-.59-1.43-.59-.52 0-1.04.2-1.43.59L10.3 9.45l-7.72 7.72c-.78.78-.78 2.05 0 2.83L4 21.41c.39.39.9.59 1.41.59.51 0 1.02-.2 1.41-.59l7.78-7.78 2.81-2.81c.8-.78.8-2.07 0-2.86zM5.41 20L4 18.59l7.72-7.72 1.47 1.35L5.41 20z\"/>\n",
              "  </svg>\n",
              "      </button>\n",
              "      \n",
              "  <style>\n",
              "    .colab-df-container {\n",
              "      display:flex;\n",
              "      flex-wrap:wrap;\n",
              "      gap: 12px;\n",
              "    }\n",
              "\n",
              "    .colab-df-convert {\n",
              "      background-color: #E8F0FE;\n",
              "      border: none;\n",
              "      border-radius: 50%;\n",
              "      cursor: pointer;\n",
              "      display: none;\n",
              "      fill: #1967D2;\n",
              "      height: 32px;\n",
              "      padding: 0 0 0 0;\n",
              "      width: 32px;\n",
              "    }\n",
              "\n",
              "    .colab-df-convert:hover {\n",
              "      background-color: #E2EBFA;\n",
              "      box-shadow: 0px 1px 2px rgba(60, 64, 67, 0.3), 0px 1px 3px 1px rgba(60, 64, 67, 0.15);\n",
              "      fill: #174EA6;\n",
              "    }\n",
              "\n",
              "    [theme=dark] .colab-df-convert {\n",
              "      background-color: #3B4455;\n",
              "      fill: #D2E3FC;\n",
              "    }\n",
              "\n",
              "    [theme=dark] .colab-df-convert:hover {\n",
              "      background-color: #434B5C;\n",
              "      box-shadow: 0px 1px 3px 1px rgba(0, 0, 0, 0.15);\n",
              "      filter: drop-shadow(0px 1px 2px rgba(0, 0, 0, 0.3));\n",
              "      fill: #FFFFFF;\n",
              "    }\n",
              "  </style>\n",
              "\n",
              "      <script>\n",
              "        const buttonEl =\n",
              "          document.querySelector('#df-ec946141-b97d-4cb4-bbe5-018cceb9bf33 button.colab-df-convert');\n",
              "        buttonEl.style.display =\n",
              "          google.colab.kernel.accessAllowed ? 'block' : 'none';\n",
              "\n",
              "        async function convertToInteractive(key) {\n",
              "          const element = document.querySelector('#df-ec946141-b97d-4cb4-bbe5-018cceb9bf33');\n",
              "          const dataTable =\n",
              "            await google.colab.kernel.invokeFunction('convertToInteractive',\n",
              "                                                     [key], {});\n",
              "          if (!dataTable) return;\n",
              "\n",
              "          const docLinkHtml = 'Like what you see? Visit the ' +\n",
              "            '<a target=\"_blank\" href=https://colab.research.google.com/notebooks/data_table.ipynb>data table notebook</a>'\n",
              "            + ' to learn more about interactive tables.';\n",
              "          element.innerHTML = '';\n",
              "          dataTable['output_type'] = 'display_data';\n",
              "          await google.colab.output.renderOutput(dataTable, element);\n",
              "          const docLink = document.createElement('div');\n",
              "          docLink.innerHTML = docLinkHtml;\n",
              "          element.appendChild(docLink);\n",
              "        }\n",
              "      </script>\n",
              "    </div>\n",
              "  </div>\n",
              "  "
            ]
          },
          "metadata": {},
          "execution_count": 10
        }
      ],
      "source": [
        "df_marge = pd.concat([df_fake, df_true], axis =0 )\n",
        "df_marge.head(10)"
      ]
    },
    {
      "cell_type": "code",
      "execution_count": null,
      "metadata": {
        "id": "T_zoWeL7WGij",
        "colab": {
          "base_uri": "https://localhost:8080/"
        },
        "outputId": "d8bf22ac-b700-442d-c950-8340b18c6878"
      },
      "outputs": [
        {
          "output_type": "execute_result",
          "data": {
            "text/plain": [
              "Index(['reviewID', 'reviewerID', 'restaurantID', 'date', 'rating',\n",
              "       'reviewUsefulCount', 'reviewContent', 'flagged', 'name', 'location',\n",
              "       'yelpJoinDate', 'friendCount', 'reviewCount', 'firstCount',\n",
              "       'usefulCount', 'coolCount', 'funnyCount', 'complimentCount', 'tipCount',\n",
              "       'fanCount', 'restaurantRating', 'mnr', 'rl', 'rd',\n",
              "       'Maximum Content Similarity', 'class'],\n",
              "      dtype='object')"
            ]
          },
          "metadata": {},
          "execution_count": 11
        }
      ],
      "source": [
        "df_marge.columns"
      ]
    },
    {
      "cell_type": "markdown",
      "metadata": {
        "id": "FdUuQfSJWGik"
      },
      "source": [
        "#### columns other than reviewContent and class are not required for detecting the fake reviews, so I am going to drop the columns."
      ]
    },
    {
      "cell_type": "code",
      "execution_count": null,
      "metadata": {
        "id": "U6i2qMlGWGil"
      },
      "outputs": [],
      "source": [
        "df = df_marge.drop(df_marge.columns.difference(['reviewContent','class']), axis = 1)"
      ]
    },
    {
      "cell_type": "code",
      "execution_count": null,
      "metadata": {
        "id": "qUPVRWwzWGil"
      },
      "outputs": [],
      "source": [
        "df = df.dropna(axis=0, how=\"any\", thresh=None, subset=None, inplace=False)"
      ]
    },
    {
      "cell_type": "code",
      "execution_count": null,
      "metadata": {
        "id": "0kBX71c6WGim",
        "colab": {
          "base_uri": "https://localhost:8080/"
        },
        "outputId": "083ded53-7eaf-4c68-ef8d-1570d86d9322"
      },
      "outputs": [
        {
          "output_type": "execute_result",
          "data": {
            "text/plain": [
              "reviewContent    0\n",
              "class            0\n",
              "dtype: int64"
            ]
          },
          "metadata": {},
          "execution_count": 14
        }
      ],
      "source": [
        "df.isnull().sum()"
      ]
    },
    {
      "cell_type": "markdown",
      "metadata": {
        "id": "PrtKnHZ_WGim"
      },
      "source": [
        "#### Randomly shuffling the dataframe "
      ]
    },
    {
      "cell_type": "code",
      "execution_count": null,
      "metadata": {
        "id": "vyvKmE7OWGin"
      },
      "outputs": [],
      "source": [
        "df = df.sample(frac = 1)"
      ]
    },
    {
      "cell_type": "code",
      "execution_count": null,
      "metadata": {
        "id": "Ku6VO679WGin",
        "colab": {
          "base_uri": "https://localhost:8080/"
        },
        "outputId": "4406f790-caec-421a-822f-370b7f269f71"
      },
      "outputs": [
        {
          "output_type": "execute_result",
          "data": {
            "text/plain": [
              "                                           reviewContent  class\n",
              "11586  the food service slipping i suggested coming w...      1\n",
              "3272   last week chicago 6 days due trade show every ...      0\n",
              "12154  this place changed and that s good thing the f...      1\n",
              "9439   o m g ahhhmazing we party 6 service great ever...      1\n",
              "2024   sapori really fantastic there lots italian pla...      1"
            ],
            "text/html": [
              "\n",
              "  <div id=\"df-d82af15f-edc4-45f2-aa45-7f97f52f4551\">\n",
              "    <div class=\"colab-df-container\">\n",
              "      <div>\n",
              "<style scoped>\n",
              "    .dataframe tbody tr th:only-of-type {\n",
              "        vertical-align: middle;\n",
              "    }\n",
              "\n",
              "    .dataframe tbody tr th {\n",
              "        vertical-align: top;\n",
              "    }\n",
              "\n",
              "    .dataframe thead th {\n",
              "        text-align: right;\n",
              "    }\n",
              "</style>\n",
              "<table border=\"1\" class=\"dataframe\">\n",
              "  <thead>\n",
              "    <tr style=\"text-align: right;\">\n",
              "      <th></th>\n",
              "      <th>reviewContent</th>\n",
              "      <th>class</th>\n",
              "    </tr>\n",
              "  </thead>\n",
              "  <tbody>\n",
              "    <tr>\n",
              "      <th>11586</th>\n",
              "      <td>the food service slipping i suggested coming w...</td>\n",
              "      <td>1</td>\n",
              "    </tr>\n",
              "    <tr>\n",
              "      <th>3272</th>\n",
              "      <td>last week chicago 6 days due trade show every ...</td>\n",
              "      <td>0</td>\n",
              "    </tr>\n",
              "    <tr>\n",
              "      <th>12154</th>\n",
              "      <td>this place changed and that s good thing the f...</td>\n",
              "      <td>1</td>\n",
              "    </tr>\n",
              "    <tr>\n",
              "      <th>9439</th>\n",
              "      <td>o m g ahhhmazing we party 6 service great ever...</td>\n",
              "      <td>1</td>\n",
              "    </tr>\n",
              "    <tr>\n",
              "      <th>2024</th>\n",
              "      <td>sapori really fantastic there lots italian pla...</td>\n",
              "      <td>1</td>\n",
              "    </tr>\n",
              "  </tbody>\n",
              "</table>\n",
              "</div>\n",
              "      <button class=\"colab-df-convert\" onclick=\"convertToInteractive('df-d82af15f-edc4-45f2-aa45-7f97f52f4551')\"\n",
              "              title=\"Convert this dataframe to an interactive table.\"\n",
              "              style=\"display:none;\">\n",
              "        \n",
              "  <svg xmlns=\"http://www.w3.org/2000/svg\" height=\"24px\"viewBox=\"0 0 24 24\"\n",
              "       width=\"24px\">\n",
              "    <path d=\"M0 0h24v24H0V0z\" fill=\"none\"/>\n",
              "    <path d=\"M18.56 5.44l.94 2.06.94-2.06 2.06-.94-2.06-.94-.94-2.06-.94 2.06-2.06.94zm-11 1L8.5 8.5l.94-2.06 2.06-.94-2.06-.94L8.5 2.5l-.94 2.06-2.06.94zm10 10l.94 2.06.94-2.06 2.06-.94-2.06-.94-.94-2.06-.94 2.06-2.06.94z\"/><path d=\"M17.41 7.96l-1.37-1.37c-.4-.4-.92-.59-1.43-.59-.52 0-1.04.2-1.43.59L10.3 9.45l-7.72 7.72c-.78.78-.78 2.05 0 2.83L4 21.41c.39.39.9.59 1.41.59.51 0 1.02-.2 1.41-.59l7.78-7.78 2.81-2.81c.8-.78.8-2.07 0-2.86zM5.41 20L4 18.59l7.72-7.72 1.47 1.35L5.41 20z\"/>\n",
              "  </svg>\n",
              "      </button>\n",
              "      \n",
              "  <style>\n",
              "    .colab-df-container {\n",
              "      display:flex;\n",
              "      flex-wrap:wrap;\n",
              "      gap: 12px;\n",
              "    }\n",
              "\n",
              "    .colab-df-convert {\n",
              "      background-color: #E8F0FE;\n",
              "      border: none;\n",
              "      border-radius: 50%;\n",
              "      cursor: pointer;\n",
              "      display: none;\n",
              "      fill: #1967D2;\n",
              "      height: 32px;\n",
              "      padding: 0 0 0 0;\n",
              "      width: 32px;\n",
              "    }\n",
              "\n",
              "    .colab-df-convert:hover {\n",
              "      background-color: #E2EBFA;\n",
              "      box-shadow: 0px 1px 2px rgba(60, 64, 67, 0.3), 0px 1px 3px 1px rgba(60, 64, 67, 0.15);\n",
              "      fill: #174EA6;\n",
              "    }\n",
              "\n",
              "    [theme=dark] .colab-df-convert {\n",
              "      background-color: #3B4455;\n",
              "      fill: #D2E3FC;\n",
              "    }\n",
              "\n",
              "    [theme=dark] .colab-df-convert:hover {\n",
              "      background-color: #434B5C;\n",
              "      box-shadow: 0px 1px 3px 1px rgba(0, 0, 0, 0.15);\n",
              "      filter: drop-shadow(0px 1px 2px rgba(0, 0, 0, 0.3));\n",
              "      fill: #FFFFFF;\n",
              "    }\n",
              "  </style>\n",
              "\n",
              "      <script>\n",
              "        const buttonEl =\n",
              "          document.querySelector('#df-d82af15f-edc4-45f2-aa45-7f97f52f4551 button.colab-df-convert');\n",
              "        buttonEl.style.display =\n",
              "          google.colab.kernel.accessAllowed ? 'block' : 'none';\n",
              "\n",
              "        async function convertToInteractive(key) {\n",
              "          const element = document.querySelector('#df-d82af15f-edc4-45f2-aa45-7f97f52f4551');\n",
              "          const dataTable =\n",
              "            await google.colab.kernel.invokeFunction('convertToInteractive',\n",
              "                                                     [key], {});\n",
              "          if (!dataTable) return;\n",
              "\n",
              "          const docLinkHtml = 'Like what you see? Visit the ' +\n",
              "            '<a target=\"_blank\" href=https://colab.research.google.com/notebooks/data_table.ipynb>data table notebook</a>'\n",
              "            + ' to learn more about interactive tables.';\n",
              "          element.innerHTML = '';\n",
              "          dataTable['output_type'] = 'display_data';\n",
              "          await google.colab.output.renderOutput(dataTable, element);\n",
              "          const docLink = document.createElement('div');\n",
              "          docLink.innerHTML = docLinkHtml;\n",
              "          element.appendChild(docLink);\n",
              "        }\n",
              "      </script>\n",
              "    </div>\n",
              "  </div>\n",
              "  "
            ]
          },
          "metadata": {},
          "execution_count": 16
        }
      ],
      "source": [
        "df.head()"
      ]
    },
    {
      "cell_type": "code",
      "execution_count": null,
      "metadata": {
        "id": "pJl2LB-0WGio"
      },
      "outputs": [],
      "source": [
        "df.reset_index(inplace = True)\n",
        "df.drop([\"index\"], axis = 1, inplace = True)"
      ]
    },
    {
      "cell_type": "code",
      "execution_count": null,
      "metadata": {
        "id": "hgbgV2hvWGio",
        "colab": {
          "base_uri": "https://localhost:8080/"
        },
        "outputId": "7e47e750-2bd0-4f5c-c839-d406ea6acbfb"
      },
      "outputs": [
        {
          "output_type": "execute_result",
          "data": {
            "text/plain": [
              "Index(['reviewContent', 'class'], dtype='object')"
            ]
          },
          "metadata": {},
          "execution_count": 18
        }
      ],
      "source": [
        "df.columns"
      ]
    },
    {
      "cell_type": "code",
      "execution_count": null,
      "metadata": {
        "id": "VW25bM3bWGio",
        "colab": {
          "base_uri": "https://localhost:8080/"
        },
        "outputId": "aec01529-a785-4cc6-fc21-5b9a9b449ba2"
      },
      "outputs": [
        {
          "output_type": "execute_result",
          "data": {
            "text/plain": [
              "                                       reviewContent  class\n",
              "0  the food service slipping i suggested coming w...      1\n",
              "1  last week chicago 6 days due trade show every ...      0\n",
              "2  this place changed and that s good thing the f...      1\n",
              "3  o m g ahhhmazing we party 6 service great ever...      1\n",
              "4  sapori really fantastic there lots italian pla...      1"
            ],
            "text/html": [
              "\n",
              "  <div id=\"df-7617fda1-8e5c-472f-8015-b5168dfe02c3\">\n",
              "    <div class=\"colab-df-container\">\n",
              "      <div>\n",
              "<style scoped>\n",
              "    .dataframe tbody tr th:only-of-type {\n",
              "        vertical-align: middle;\n",
              "    }\n",
              "\n",
              "    .dataframe tbody tr th {\n",
              "        vertical-align: top;\n",
              "    }\n",
              "\n",
              "    .dataframe thead th {\n",
              "        text-align: right;\n",
              "    }\n",
              "</style>\n",
              "<table border=\"1\" class=\"dataframe\">\n",
              "  <thead>\n",
              "    <tr style=\"text-align: right;\">\n",
              "      <th></th>\n",
              "      <th>reviewContent</th>\n",
              "      <th>class</th>\n",
              "    </tr>\n",
              "  </thead>\n",
              "  <tbody>\n",
              "    <tr>\n",
              "      <th>0</th>\n",
              "      <td>the food service slipping i suggested coming w...</td>\n",
              "      <td>1</td>\n",
              "    </tr>\n",
              "    <tr>\n",
              "      <th>1</th>\n",
              "      <td>last week chicago 6 days due trade show every ...</td>\n",
              "      <td>0</td>\n",
              "    </tr>\n",
              "    <tr>\n",
              "      <th>2</th>\n",
              "      <td>this place changed and that s good thing the f...</td>\n",
              "      <td>1</td>\n",
              "    </tr>\n",
              "    <tr>\n",
              "      <th>3</th>\n",
              "      <td>o m g ahhhmazing we party 6 service great ever...</td>\n",
              "      <td>1</td>\n",
              "    </tr>\n",
              "    <tr>\n",
              "      <th>4</th>\n",
              "      <td>sapori really fantastic there lots italian pla...</td>\n",
              "      <td>1</td>\n",
              "    </tr>\n",
              "  </tbody>\n",
              "</table>\n",
              "</div>\n",
              "      <button class=\"colab-df-convert\" onclick=\"convertToInteractive('df-7617fda1-8e5c-472f-8015-b5168dfe02c3')\"\n",
              "              title=\"Convert this dataframe to an interactive table.\"\n",
              "              style=\"display:none;\">\n",
              "        \n",
              "  <svg xmlns=\"http://www.w3.org/2000/svg\" height=\"24px\"viewBox=\"0 0 24 24\"\n",
              "       width=\"24px\">\n",
              "    <path d=\"M0 0h24v24H0V0z\" fill=\"none\"/>\n",
              "    <path d=\"M18.56 5.44l.94 2.06.94-2.06 2.06-.94-2.06-.94-.94-2.06-.94 2.06-2.06.94zm-11 1L8.5 8.5l.94-2.06 2.06-.94-2.06-.94L8.5 2.5l-.94 2.06-2.06.94zm10 10l.94 2.06.94-2.06 2.06-.94-2.06-.94-.94-2.06-.94 2.06-2.06.94z\"/><path d=\"M17.41 7.96l-1.37-1.37c-.4-.4-.92-.59-1.43-.59-.52 0-1.04.2-1.43.59L10.3 9.45l-7.72 7.72c-.78.78-.78 2.05 0 2.83L4 21.41c.39.39.9.59 1.41.59.51 0 1.02-.2 1.41-.59l7.78-7.78 2.81-2.81c.8-.78.8-2.07 0-2.86zM5.41 20L4 18.59l7.72-7.72 1.47 1.35L5.41 20z\"/>\n",
              "  </svg>\n",
              "      </button>\n",
              "      \n",
              "  <style>\n",
              "    .colab-df-container {\n",
              "      display:flex;\n",
              "      flex-wrap:wrap;\n",
              "      gap: 12px;\n",
              "    }\n",
              "\n",
              "    .colab-df-convert {\n",
              "      background-color: #E8F0FE;\n",
              "      border: none;\n",
              "      border-radius: 50%;\n",
              "      cursor: pointer;\n",
              "      display: none;\n",
              "      fill: #1967D2;\n",
              "      height: 32px;\n",
              "      padding: 0 0 0 0;\n",
              "      width: 32px;\n",
              "    }\n",
              "\n",
              "    .colab-df-convert:hover {\n",
              "      background-color: #E2EBFA;\n",
              "      box-shadow: 0px 1px 2px rgba(60, 64, 67, 0.3), 0px 1px 3px 1px rgba(60, 64, 67, 0.15);\n",
              "      fill: #174EA6;\n",
              "    }\n",
              "\n",
              "    [theme=dark] .colab-df-convert {\n",
              "      background-color: #3B4455;\n",
              "      fill: #D2E3FC;\n",
              "    }\n",
              "\n",
              "    [theme=dark] .colab-df-convert:hover {\n",
              "      background-color: #434B5C;\n",
              "      box-shadow: 0px 1px 3px 1px rgba(0, 0, 0, 0.15);\n",
              "      filter: drop-shadow(0px 1px 2px rgba(0, 0, 0, 0.3));\n",
              "      fill: #FFFFFF;\n",
              "    }\n",
              "  </style>\n",
              "\n",
              "      <script>\n",
              "        const buttonEl =\n",
              "          document.querySelector('#df-7617fda1-8e5c-472f-8015-b5168dfe02c3 button.colab-df-convert');\n",
              "        buttonEl.style.display =\n",
              "          google.colab.kernel.accessAllowed ? 'block' : 'none';\n",
              "\n",
              "        async function convertToInteractive(key) {\n",
              "          const element = document.querySelector('#df-7617fda1-8e5c-472f-8015-b5168dfe02c3');\n",
              "          const dataTable =\n",
              "            await google.colab.kernel.invokeFunction('convertToInteractive',\n",
              "                                                     [key], {});\n",
              "          if (!dataTable) return;\n",
              "\n",
              "          const docLinkHtml = 'Like what you see? Visit the ' +\n",
              "            '<a target=\"_blank\" href=https://colab.research.google.com/notebooks/data_table.ipynb>data table notebook</a>'\n",
              "            + ' to learn more about interactive tables.';\n",
              "          element.innerHTML = '';\n",
              "          dataTable['output_type'] = 'display_data';\n",
              "          await google.colab.output.renderOutput(dataTable, element);\n",
              "          const docLink = document.createElement('div');\n",
              "          docLink.innerHTML = docLinkHtml;\n",
              "          element.appendChild(docLink);\n",
              "        }\n",
              "      </script>\n",
              "    </div>\n",
              "  </div>\n",
              "  "
            ]
          },
          "metadata": {},
          "execution_count": 19
        }
      ],
      "source": [
        "df.head()"
      ]
    },
    {
      "cell_type": "markdown",
      "metadata": {
        "id": "-vjEF1adWGip"
      },
      "source": [
        "#### Creating a function to convert the text in lowercase, remove the extra space, special chr., ulr and links."
      ]
    },
    {
      "cell_type": "code",
      "execution_count": null,
      "metadata": {
        "id": "ukyL1-1SWGip"
      },
      "outputs": [],
      "source": [
        "def wordopt(text):\n",
        "    text = text.lower()\n",
        "    text = re.sub('\\[.*?\\]', '', text)\n",
        "    text = re.sub(\"\\\\W\",\" \",text) \n",
        "    text = re.sub('https?://\\S+|www\\.\\S+', '', text)\n",
        "    text = re.sub('<.*?>+', '', text)\n",
        "    text = re.sub('[%s]' % re.escape(string.punctuation), '', text)\n",
        "    text = re.sub('\\n', '', text)\n",
        "    text = re.sub('\\w*\\d\\w*', '', text)    \n",
        "    return text"
      ]
    },
    {
      "cell_type": "code",
      "execution_count": null,
      "metadata": {
        "id": "TVZrPqe1WGiq"
      },
      "outputs": [],
      "source": [
        "df[\"reviewContent\"] = df[\"reviewContent\"].apply(wordopt)"
      ]
    },
    {
      "cell_type": "markdown",
      "metadata": {
        "id": "7XBRrwx5WGiq"
      },
      "source": [
        "#### Defining dependent and independent variable as x and y"
      ]
    },
    {
      "cell_type": "code",
      "execution_count": null,
      "metadata": {
        "id": "S0rdQ7RtWGiq"
      },
      "outputs": [],
      "source": [
        "x = df[\"reviewContent\"]\n",
        "y = df[\"class\"]"
      ]
    },
    {
      "cell_type": "markdown",
      "metadata": {
        "id": "v4Dl1jdBWGir"
      },
      "source": [
        "#### Splitting the dataset into training set and testing set. "
      ]
    },
    {
      "cell_type": "code",
      "execution_count": null,
      "metadata": {
        "id": "BtjLLzWSWGir"
      },
      "outputs": [],
      "source": [
        "x_train, x_test, y_train, y_test = train_test_split(x, y, test_size=0.25)"
      ]
    },
    {
      "cell_type": "markdown",
      "metadata": {
        "id": "yMmzPC45WGis"
      },
      "source": [
        "#### Convert text to vectors"
      ]
    },
    {
      "cell_type": "code",
      "execution_count": null,
      "metadata": {
        "id": "FpC0ofhwWGis"
      },
      "outputs": [],
      "source": [
        "from sklearn.feature_extraction.text import TfidfVectorizer"
      ]
    },
    {
      "cell_type": "code",
      "execution_count": null,
      "metadata": {
        "id": "o68PSOR9WGis"
      },
      "outputs": [],
      "source": [
        "vectorization = TfidfVectorizer()\n",
        "xv_train = vectorization.fit_transform(x_train)\n",
        "xv_test = vectorization.transform(x_test)"
      ]
    },
    {
      "cell_type": "markdown",
      "metadata": {
        "id": "PBLucAw8WGit"
      },
      "source": [
        "### 1. Logistic Regression"
      ]
    },
    {
      "cell_type": "code",
      "execution_count": null,
      "metadata": {
        "id": "WdfaZyTvWGit"
      },
      "outputs": [],
      "source": [
        "from sklearn.linear_model import LogisticRegression"
      ]
    },
    {
      "cell_type": "code",
      "execution_count": null,
      "metadata": {
        "id": "sL-no0u2WGiv",
        "colab": {
          "base_uri": "https://localhost:8080/"
        },
        "outputId": "1a6fc4aa-60d5-4616-b71a-98e628c8f68d"
      },
      "outputs": [
        {
          "output_type": "execute_result",
          "data": {
            "text/plain": [
              "LogisticRegression()"
            ]
          },
          "metadata": {},
          "execution_count": 27
        }
      ],
      "source": [
        "LR = LogisticRegression()\n",
        "LR.fit(xv_train,y_train)"
      ]
    },
    {
      "cell_type": "code",
      "execution_count": null,
      "metadata": {
        "id": "4ulQgTQgWGiw"
      },
      "outputs": [],
      "source": [
        "pred_lr=LR.predict(xv_test)"
      ]
    },
    {
      "cell_type": "code",
      "execution_count": null,
      "metadata": {
        "id": "6hJPCrwrWGiw",
        "colab": {
          "base_uri": "https://localhost:8080/"
        },
        "outputId": "63a7a106-83d7-4fef-f875-2e7d6ab8a028"
      },
      "outputs": [
        {
          "output_type": "execute_result",
          "data": {
            "text/plain": [
              "0.7885442944056982"
            ]
          },
          "metadata": {},
          "execution_count": 29
        }
      ],
      "source": [
        "LR.score(xv_test, y_test)"
      ]
    },
    {
      "cell_type": "code",
      "execution_count": null,
      "metadata": {
        "id": "DcYfZcfYWGiw",
        "colab": {
          "base_uri": "https://localhost:8080/"
        },
        "outputId": "358f72cf-61a3-42a1-c326-f5e91542c970"
      },
      "outputs": [
        {
          "output_type": "stream",
          "name": "stdout",
          "text": [
            "              precision    recall  f1-score   support\n",
            "\n",
            "           0       0.55      0.16      0.25      1472\n",
            "           1       0.80      0.96      0.88      5267\n",
            "\n",
            "    accuracy                           0.79      6739\n",
            "   macro avg       0.68      0.56      0.56      6739\n",
            "weighted avg       0.75      0.79      0.74      6739\n",
            "\n"
          ]
        }
      ],
      "source": [
        "print(classification_report(y_test, pred_lr))"
      ]
    },
    {
      "cell_type": "markdown",
      "metadata": {
        "id": "SsAxs2dLWGix"
      },
      "source": [
        "### 2. Decision Tree Classification"
      ]
    },
    {
      "cell_type": "code",
      "execution_count": null,
      "metadata": {
        "id": "k1vlQNLFWGix"
      },
      "outputs": [],
      "source": [
        "from sklearn.tree import DecisionTreeClassifier"
      ]
    },
    {
      "cell_type": "code",
      "execution_count": null,
      "metadata": {
        "id": "L4VBlfJIWGix",
        "colab": {
          "base_uri": "https://localhost:8080/"
        },
        "outputId": "139b9456-bc6f-49f4-9e63-f6a9699a0635"
      },
      "outputs": [
        {
          "output_type": "execute_result",
          "data": {
            "text/plain": [
              "DecisionTreeClassifier()"
            ]
          },
          "metadata": {},
          "execution_count": 32
        }
      ],
      "source": [
        "DT = DecisionTreeClassifier()\n",
        "DT.fit(xv_train, y_train)"
      ]
    },
    {
      "cell_type": "code",
      "execution_count": null,
      "metadata": {
        "id": "CtC23p53WGiy"
      },
      "outputs": [],
      "source": [
        "pred_dt = DT.predict(xv_test)"
      ]
    },
    {
      "cell_type": "code",
      "execution_count": null,
      "metadata": {
        "id": "vv0l1ayLWGiy",
        "colab": {
          "base_uri": "https://localhost:8080/"
        },
        "outputId": "eee69fe3-d056-4cb5-97b4-ce6f8c077ebc"
      },
      "outputs": [
        {
          "output_type": "execute_result",
          "data": {
            "text/plain": [
              "0.6833358064994807"
            ]
          },
          "metadata": {},
          "execution_count": 34
        }
      ],
      "source": [
        "DT.score(xv_test, y_test)"
      ]
    },
    {
      "cell_type": "code",
      "execution_count": null,
      "metadata": {
        "id": "-VH0aCHvWGiy",
        "colab": {
          "base_uri": "https://localhost:8080/"
        },
        "outputId": "4995bc3a-be9a-4ea2-d0c7-64b36aab8424"
      },
      "outputs": [
        {
          "output_type": "stream",
          "name": "stdout",
          "text": [
            "              precision    recall  f1-score   support\n",
            "\n",
            "           0       0.29      0.32      0.31      1472\n",
            "           1       0.81      0.78      0.79      5267\n",
            "\n",
            "    accuracy                           0.68      6739\n",
            "   macro avg       0.55      0.55      0.55      6739\n",
            "weighted avg       0.69      0.68      0.69      6739\n",
            "\n"
          ]
        }
      ],
      "source": [
        "print(classification_report(y_test, pred_dt))"
      ]
    },
    {
      "cell_type": "markdown",
      "metadata": {
        "id": "IM4UFaZkWGiz"
      },
      "source": [
        "### 3. Gradient Boosting Classifier"
      ]
    },
    {
      "cell_type": "code",
      "execution_count": null,
      "metadata": {
        "id": "C9Vtl-ojWGiz"
      },
      "outputs": [],
      "source": [
        "from sklearn.ensemble import GradientBoostingClassifier"
      ]
    },
    {
      "cell_type": "code",
      "execution_count": null,
      "metadata": {
        "id": "9cFJkvSGWGiz",
        "colab": {
          "base_uri": "https://localhost:8080/"
        },
        "outputId": "77529547-ae2c-4701-c07d-4d61c5210627"
      },
      "outputs": [
        {
          "output_type": "execute_result",
          "data": {
            "text/plain": [
              "GradientBoostingClassifier(random_state=0)"
            ]
          },
          "metadata": {},
          "execution_count": 37
        }
      ],
      "source": [
        "GBC = GradientBoostingClassifier(random_state=0)\n",
        "GBC.fit(xv_train, y_train)"
      ]
    },
    {
      "cell_type": "code",
      "execution_count": null,
      "metadata": {
        "id": "aw609SoGWGi0"
      },
      "outputs": [],
      "source": [
        "pred_gbc = GBC.predict(xv_test)"
      ]
    },
    {
      "cell_type": "code",
      "execution_count": null,
      "metadata": {
        "id": "bMKi9FYkWGi0",
        "colab": {
          "base_uri": "https://localhost:8080/"
        },
        "outputId": "2e81d45c-1c64-4428-fd88-9c3bf51baefa"
      },
      "outputs": [
        {
          "output_type": "execute_result",
          "data": {
            "text/plain": [
              "0.7851313251224217"
            ]
          },
          "metadata": {},
          "execution_count": 39
        }
      ],
      "source": [
        "GBC.score(xv_test, y_test)"
      ]
    },
    {
      "cell_type": "code",
      "execution_count": null,
      "metadata": {
        "id": "Fn3YgzEyWGi0",
        "colab": {
          "base_uri": "https://localhost:8080/"
        },
        "outputId": "16d59449-efc9-4b14-d0fe-38a92bd54095"
      },
      "outputs": [
        {
          "output_type": "stream",
          "name": "stdout",
          "text": [
            "              precision    recall  f1-score   support\n",
            "\n",
            "           0       0.62      0.04      0.08      1472\n",
            "           1       0.79      0.99      0.88      5267\n",
            "\n",
            "    accuracy                           0.79      6739\n",
            "   macro avg       0.70      0.52      0.48      6739\n",
            "weighted avg       0.75      0.79      0.70      6739\n",
            "\n"
          ]
        }
      ],
      "source": [
        "print(classification_report(y_test, pred_gbc))"
      ]
    },
    {
      "cell_type": "markdown",
      "metadata": {
        "id": "_YvEQd97WGi1"
      },
      "source": [
        "### 4. Random Forest Classifier"
      ]
    },
    {
      "cell_type": "code",
      "execution_count": null,
      "metadata": {
        "id": "KBH674byWGi1"
      },
      "outputs": [],
      "source": [
        "from sklearn.ensemble import RandomForestClassifier"
      ]
    },
    {
      "cell_type": "code",
      "execution_count": null,
      "metadata": {
        "id": "wa62NBQFWGi1",
        "colab": {
          "base_uri": "https://localhost:8080/"
        },
        "outputId": "70aee67e-78b2-4227-df74-b48f029e658d"
      },
      "outputs": [
        {
          "output_type": "execute_result",
          "data": {
            "text/plain": [
              "RandomForestClassifier(random_state=0)"
            ]
          },
          "metadata": {},
          "execution_count": 42
        }
      ],
      "source": [
        "RFC = RandomForestClassifier(random_state=0)\n",
        "RFC.fit(xv_train, y_train)"
      ]
    },
    {
      "cell_type": "code",
      "execution_count": null,
      "metadata": {
        "id": "3GBWr2kmWGi2"
      },
      "outputs": [],
      "source": [
        "pred_rfc = RFC.predict(xv_test)"
      ]
    },
    {
      "cell_type": "code",
      "execution_count": null,
      "metadata": {
        "id": "1336onrOWGi2",
        "colab": {
          "base_uri": "https://localhost:8080/"
        },
        "outputId": "0fb5e4e9-6845-4428-ec2f-a8f78c172e04"
      },
      "outputs": [
        {
          "output_type": "execute_result",
          "data": {
            "text/plain": [
              "0.7814215759014691"
            ]
          },
          "metadata": {},
          "execution_count": 44
        }
      ],
      "source": [
        "RFC.score(xv_test, y_test)"
      ]
    },
    {
      "cell_type": "code",
      "execution_count": null,
      "metadata": {
        "id": "xqSX2k2OWGi2",
        "colab": {
          "base_uri": "https://localhost:8080/"
        },
        "outputId": "ba6f9a82-22b7-46ba-ec8b-d7ce1f3c3fff"
      },
      "outputs": [
        {
          "output_type": "stream",
          "name": "stdout",
          "text": [
            "              precision    recall  f1-score   support\n",
            "\n",
            "           0       0.49      0.03      0.06      1472\n",
            "           1       0.79      0.99      0.88      5267\n",
            "\n",
            "    accuracy                           0.78      6739\n",
            "   macro avg       0.64      0.51      0.47      6739\n",
            "weighted avg       0.72      0.78      0.70      6739\n",
            "\n"
          ]
        }
      ],
      "source": [
        "print(classification_report(y_test, pred_rfc))"
      ]
    },
    {
      "cell_type": "markdown",
      "metadata": {
        "id": "1s-82XAXWGi3"
      },
      "source": [
        "# Model Testing With Manual Entry\n",
        "\n",
        "### Reviews"
      ]
    },
    {
      "cell_type": "code",
      "execution_count": null,
      "metadata": {
        "id": "9Bi9uDq2WGi3"
      },
      "outputs": [],
      "source": [
        "def output_lable(n):\n",
        "    if n == 0:\n",
        "        return \"Fake Review\"\n",
        "    elif n == 1:\n",
        "        return \"Not A Fake Review\"\n",
        "    \n",
        "def manual_testing(news):\n",
        "    testing_news = {\"reviewContent\":[news]}\n",
        "    new_def_test = pd.DataFrame(testing_news)\n",
        "    new_def_test[\"reviewContent\"] = new_def_test[\"reviewContent\"].apply(wordopt) \n",
        "    new_x_test = new_def_test[\"reviewContent\"]\n",
        "    new_xv_test = vectorization.transform(new_x_test)\n",
        "    pred_LR = LR.predict(new_xv_test)\n",
        "    pred_DT = DT.predict(new_xv_test)\n",
        "    pred_GBC = GBC.predict(new_xv_test)\n",
        "    pred_RFC = RFC.predict(new_xv_test)\n",
        "\n",
        "    return print(\"\\n\\nLR Prediction: {} \\nDT Prediction: {} \\nGBC Prediction: {} \\nRFC Prediction: {}\".format(output_lable(pred_LR[0]), \n",
        "                                                                                                              output_lable(pred_DT[0]), \n",
        "                                                                                                              output_lable(pred_GBC[0]), \n",
        "                                                                                                              output_lable(pred_RFC[0])))"
      ]
    },
    {
      "cell_type": "code",
      "execution_count": null,
      "metadata": {
        "id": "qBAhLa38WGi4",
        "colab": {
          "base_uri": "https://localhost:8080/"
        },
        "outputId": "082ff5b3-7ce7-4d0a-e12c-35eb74d1b4e8"
      },
      "outputs": [
        {
          "output_type": "stream",
          "name": "stdout",
          "text": [
            "the food is not good\n",
            "\n",
            "\n",
            "LR Prediction: Not A Fake Review \n",
            "DT Prediction: Fake Review \n",
            "GBC Prediction: Not A Fake Review \n",
            "RFC Prediction: Not A Fake Review\n"
          ]
        }
      ],
      "source": [
        "reviews = str(input())\n",
        "manual_testing(reviews)"
      ]
    },
    {
      "cell_type": "code",
      "execution_count": null,
      "metadata": {
        "id": "AGewiSr0WGi4"
      },
      "outputs": [],
      "source": []
    }
  ],
  "metadata": {
    "kernelspec": {
      "display_name": "Python 3",
      "language": "python",
      "name": "python3"
    },
    "language_info": {
      "codemirror_mode": {
        "name": "ipython",
        "version": 3
      },
      "file_extension": ".py",
      "mimetype": "text/x-python",
      "name": "python",
      "nbconvert_exporter": "python",
      "pygments_lexer": "ipython3",
      "version": "3.7.9"
    },
    "colab": {
      "provenance": []
    }
  },
  "nbformat": 4,
  "nbformat_minor": 0
}